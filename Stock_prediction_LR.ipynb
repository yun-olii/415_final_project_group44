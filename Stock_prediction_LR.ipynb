{
 "cells": [
  {
   "cell_type": "code",
   "execution_count": 1,
   "metadata": {},
   "outputs": [],
   "source": [
    "import pandas as pd\n",
    "import numpy as np\n",
    "from sklearn.linear_model import Lasso\n",
    "from sklearn.model_selection import train_test_split\n",
    "import matplotlib.pyplot as plt\n",
    "import matplotlib.dates as mdates\n",
    "from sklearn.model_selection import KFold, cross_val_score\n",
    "from sklearn.linear_model import Ridge, Lasso\n",
    "from sklearn.model_selection import GridSearchCV\n",
    "from sklearn.linear_model import LinearRegression\n",
    "from sklearn.metrics import mean_absolute_error, r2_score, mean_squared_error\n",
    "from sklearn.model_selection import TimeSeriesSplit\n",
    "from sklearn.preprocessing import StandardScaler"
   ]
  },
  {
   "cell_type": "code",
   "execution_count": 2,
   "metadata": {},
   "outputs": [
    {
     "name": "stdout",
     "output_type": "stream",
     "text": [
      "         Date       Open       High        Low      Close  Adj Close  \\\n",
      "0  2018-01-02  20.799999  21.474001  20.733334  21.368668  21.368668   \n",
      "1  2018-01-03  21.400000  21.683332  21.036667  21.150000  21.150000   \n",
      "2  2018-01-04  20.858000  21.236668  20.378668  20.974667  20.974667   \n",
      "3  2018-01-05  21.108000  21.149332  20.799999  21.105333  21.105333   \n",
      "4  2018-01-08  21.066668  22.468000  21.033333  22.427334  22.427334   \n",
      "\n",
      "      Volume  daily_return  normalized_close        date  \\\n",
      "0   65283000      0.029485         -0.508566  2018-01-02   \n",
      "1   67822500     -0.010233         -0.510716  2018-01-03   \n",
      "2  149194500     -0.008290         -0.512440  2018-01-04   \n",
      "3   68868000      0.006230         -0.511155  2018-01-05   \n",
      "4  147891000      0.062638         -0.498155  2018-01-08   \n",
      "\n",
      "   avg_textblob_polarity  avg_vader_sentiment  textblob_polarity_z  \\\n",
      "0               0.452135             0.443897             5.569766   \n",
      "1               0.374766             0.505215             4.052707   \n",
      "2               0.234458             0.333803             1.301509   \n",
      "3               0.292254             0.358897             2.434778   \n",
      "4               0.312679             0.448593             2.835281   \n",
      "\n",
      "   vader_sentiment_z  Movement  \n",
      "0           2.073020         0  \n",
      "1           2.870253        -1  \n",
      "2           0.641641        -1  \n",
      "3           0.967905         1  \n",
      "4           2.134074         1  \n"
     ]
    }
   ],
   "source": [
    "data = pd.read_csv('/Users/miali/Downloads/filtered_tweets_revised_2018_2020.csv')\n",
    "print(data.head())"
   ]
  },
  {
   "cell_type": "code",
   "execution_count": 33,
   "metadata": {},
   "outputs": [
    {
     "name": "stdout",
     "output_type": "stream",
     "text": [
      "434\n"
     ]
    }
   ],
   "source": [
    "print(len(data))"
   ]
  },
  {
   "cell_type": "markdown",
   "metadata": {},
   "source": [
    "Create lag features"
   ]
  },
  {
   "cell_type": "code",
   "execution_count": 3,
   "metadata": {},
   "outputs": [],
   "source": [
    "def create_lagged_features(data, cols, lags):\n",
    "    for col in cols:\n",
    "        for lag in lags:\n",
    "            data[f'{col}_lag{lag}'] = data[col].shift(lag)\n",
    "    return data"
   ]
  },
  {
   "cell_type": "code",
   "execution_count": 4,
   "metadata": {},
   "outputs": [],
   "source": [
    "lag_columns = ['avg_textblob_polarity', 'avg_vader_sentiment', 'normalized_close']\n",
    "data = create_lagged_features(data, lag_columns, lags=[2, 3, 4])\n",
    "data.dropna(inplace=True)  # Drop rows with NaN values due to lagging"
   ]
  },
  {
   "cell_type": "code",
   "execution_count": 5,
   "metadata": {},
   "outputs": [
    {
     "name": "stdout",
     "output_type": "stream",
     "text": [
      "                       normalized_close  normalized_close_lag2  \\\n",
      "normalized_close               1.000000               0.994088   \n",
      "normalized_close_lag2          0.994088               1.000000   \n",
      "normalized_close_lag3          0.990725               0.996984   \n",
      "normalized_close_lag4          0.987313               0.993831   \n",
      "\n",
      "                       normalized_close_lag3  normalized_close_lag4  \n",
      "normalized_close                    0.990725               0.987313  \n",
      "normalized_close_lag2               0.996984               0.993831  \n",
      "normalized_close_lag3               1.000000               0.996910  \n",
      "normalized_close_lag4               0.996910               1.000000  \n"
     ]
    }
   ],
   "source": [
    "print(data[['normalized_close', 'normalized_close_lag2', 'normalized_close_lag3', 'normalized_close_lag4']].corr())"
   ]
  },
  {
   "cell_type": "markdown",
   "metadata": {},
   "source": [
    "The closed value on previous days is highly correlated with the closed value on the targeted day. Their correlation is 0.99. Using the close value as output might cause overfitting. Therefore, we use returns to reduce dependencies between the data."
   ]
  },
  {
   "cell_type": "markdown",
   "metadata": {},
   "source": [
    "Transformation of closed values into the returns"
   ]
  },
  {
   "cell_type": "code",
   "execution_count": 6,
   "metadata": {},
   "outputs": [],
   "source": [
    "data['return'] = data['normalized_close'].pct_change()\n",
    "data['return_lag2'] = data['return'].shift(2)\n",
    "data['return_lag3'] = data['return'].shift(3)\n",
    "data['return_lag4'] = data['return'].shift(4)\n",
    "data.dropna(inplace=True)"
   ]
  },
  {
   "cell_type": "code",
   "execution_count": 7,
   "metadata": {},
   "outputs": [],
   "source": [
    "# Prepare features\n",
    "data['avg_textblob_polarity_lag2_squared'] = data['avg_textblob_polarity_lag2'] ** 2\n",
    "data['avg_textblob_polarity_lag2_cubed'] = data['avg_textblob_polarity_lag2'] ** 3\n",
    "data['avg_vader_sentiment_lag2_squared'] = data['avg_vader_sentiment_lag2'] ** 2\n",
    "data['avg_vader_sentiment_lag2_cubed'] = data['avg_vader_sentiment_lag2'] ** 3\n",
    "\n",
    "data['avg_textblob_polarity_lag3_squared'] = data['avg_textblob_polarity_lag3'] ** 2\n",
    "data['avg_textblob_polarity_lag3_cubed'] = data['avg_textblob_polarity_lag3'] ** 3\n",
    "data['avg_vader_sentiment_lag3_squared'] = data['avg_vader_sentiment_lag3'] ** 2\n",
    "data['avg_vader_sentiment_lag3_cubed'] = data['avg_vader_sentiment_lag3'] ** 3\n",
    "\n",
    "data['avg_textblob_polarity_lag4_squared'] = data['avg_textblob_polarity_lag4'] ** 2\n",
    "data['avg_textblob_polarity_lag4_cubed'] = data['avg_textblob_polarity_lag4'] ** 3\n",
    "data['avg_vader_sentiment_lag4_squared'] = data['avg_vader_sentiment_lag4'] ** 2\n",
    "data['avg_vader_sentiment_lag4_cubed'] = data['avg_vader_sentiment_lag4'] ** 3\n",
    "\n",
    "data['return_lag2_avg_textblob_interaction'] = data['return_lag2'] * data['avg_textblob_polarity_lag2']\n",
    "data['return_lag3_avg_textblob_interaction'] = data['return_lag3'] * data['avg_textblob_polarity_lag3']\n",
    "data['return_lag4_avg_textblob_interaction'] = data['return_lag4'] * data['avg_textblob_polarity_lag4']\n",
    "\n",
    "data['return_lag2_avg_vader_interaction'] = data['return_lag2'] * data['avg_vader_sentiment_lag2']\n",
    "data['return_lag3_avg_vader_interaction'] = data['return_lag3'] * data['avg_vader_sentiment_lag3']\n",
    "data['return_lag4_avg_vader_interaction'] = data['return_lag4'] * data['avg_vader_sentiment_lag4']"
   ]
  },
  {
   "cell_type": "markdown",
   "metadata": {},
   "source": [
    "Define features combinations"
   ]
  },
  {
   "cell_type": "code",
   "execution_count": 8,
   "metadata": {},
   "outputs": [],
   "source": [
    "textblob_combinations = [\n",
    "    ['return_lag2', 'avg_textblob_polarity_lag2'],\n",
    "\n",
    "    ['return_lag2', 'return_lag3', 'avg_textblob_polarity_lag2', 'avg_textblob_polarity_lag3'],\n",
    "\n",
    "    ['return_lag2', 'return_lag3', 'return_lag4',\n",
    "     'avg_textblob_polarity_lag2', 'avg_textblob_polarity_lag3', 'avg_textblob_polarity_lag4'],\n",
    "\n",
    "    ['return_lag2', 'avg_textblob_polarity_lag2', 'avg_textblob_polarity_lag2_squared'],\n",
    "\n",
    "    ['return_lag2', 'return_lag3',\n",
    "     'avg_textblob_polarity_lag2', 'avg_textblob_polarity_lag3', \n",
    "     'avg_textblob_polarity_lag2_squared','avg_textblob_polarity_lag3_squared'], \n",
    "\n",
    "    ['return_lag2', 'return_lag3', 'return_lag4',\n",
    "     'avg_textblob_polarity_lag2', 'avg_textblob_polarity_lag3', 'avg_textblob_polarity_lag4',\n",
    "     'avg_textblob_polarity_lag2_squared', 'avg_textblob_polarity_lag3_squared', 'avg_textblob_polarity_lag4_squared'], \n",
    "\n",
    "    ['return_lag2', 'avg_textblob_polarity_lag2', 'avg_textblob_polarity_lag2_squared',\n",
    "     'avg_textblob_polarity_lag2_cubed'], \n",
    "\n",
    "    ['return_lag2', 'return_lag3',\n",
    "     'avg_textblob_polarity_lag2', 'avg_textblob_polarity_lag3', \n",
    "     'avg_textblob_polarity_lag2_squared','avg_textblob_polarity_lag3_squared',\n",
    "     'avg_textblob_polarity_lag2_cubed', 'avg_textblob_polarity_lag3_cubed'], \n",
    "\n",
    "     ['return_lag2', 'return_lag3', 'return_lag4',\n",
    "     'avg_textblob_polarity_lag2', 'avg_textblob_polarity_lag3', 'avg_textblob_polarity_lag4',\n",
    "     'avg_textblob_polarity_lag2_squared', 'avg_textblob_polarity_lag3_squared', 'avg_textblob_polarity_lag4_squared',\n",
    "     'avg_textblob_polarity_lag2_cubed', 'avg_textblob_polarity_lag3_cubed', 'avg_textblob_polarity_lag4_cubed'],\n",
    "\n",
    "    ['return_lag2', 'avg_textblob_polarity_lag2', 'return_lag2_avg_textblob_interaction'],\n",
    "\n",
    "    ['return_lag2', 'avg_textblob_polarity_lag2', 'return_lag2_avg_textblob_interaction',\n",
    "     'return_lag3', 'avg_textblob_polarity_lag3', 'return_lag3_avg_textblob_interaction'],\n",
    "\n",
    "    ['return_lag2', 'avg_textblob_polarity_lag2', 'return_lag2_avg_textblob_interaction',\n",
    "     'return_lag3', 'avg_textblob_polarity_lag3', 'return_lag3_avg_textblob_interaction',\n",
    "     'return_lag4', 'avg_textblob_polarity_lag4', 'return_lag4_avg_textblob_interaction'],\n",
    "\n",
    "    ['return_lag2', 'return_lag3', \n",
    "     'avg_textblob_polarity_lag2', \n",
    "     'avg_textblob_polarity_lag2_squared', \n",
    "     'return_lag2_avg_textblob_interaction']\n",
    "]"
   ]
  },
  {
   "cell_type": "code",
   "execution_count": 9,
   "metadata": {},
   "outputs": [],
   "source": [
    "vader_combinations = [\n",
    "    ['return_lag2', 'avg_vader_sentiment_lag2'],\n",
    "\n",
    "    ['return_lag2', 'return_lag3', \n",
    "     'avg_vader_sentiment_lag2', 'avg_vader_sentiment_lag3'],\n",
    "\n",
    "    ['return_lag2', 'return_lag3', 'return_lag4',\n",
    "     'avg_vader_sentiment_lag2', 'avg_vader_sentiment_lag3', 'avg_vader_sentiment_lag4'],\n",
    "\n",
    "    ['return_lag2',  'avg_vader_sentiment_lag2', 'avg_vader_sentiment_lag2_squared'],\n",
    "\n",
    "    ['return_lag2', 'return_lag3',\n",
    "     'avg_vader_sentiment_lag2', 'avg_vader_sentiment_lag3',\n",
    "     'avg_vader_sentiment_lag2_squared', 'avg_vader_sentiment_lag3_squared'], \n",
    "\n",
    "    ['return_lag2', 'return_lag3', 'return_lag4',\n",
    "     'avg_vader_sentiment_lag2', 'avg_vader_sentiment_lag3', 'avg_vader_sentiment_lag4', \n",
    "     'avg_vader_sentiment_lag2_squared', 'avg_vader_sentiment_lag3_squared', 'avg_vader_sentiment_lag4_squared'],\n",
    "\n",
    "    ['return_lag2',  'avg_vader_sentiment_lag2', 'avg_vader_sentiment_lag2_squared', 'avg_vader_sentiment_lag2_cubed'],\n",
    "\n",
    "    ['return_lag2', 'return_lag3',\n",
    "     'avg_vader_sentiment_lag2', 'avg_vader_sentiment_lag3',\n",
    "     'avg_vader_sentiment_lag2_squared', 'avg_vader_sentiment_lag3_squared',\n",
    "     'avg_vader_sentiment_lag2_cubed', 'avg_vader_sentiment_lag3_cubed'], \n",
    "\n",
    "    ['return_lag2', 'return_lag3', 'return_lag4',\n",
    "     'avg_vader_sentiment_lag2', 'avg_vader_sentiment_lag3', 'avg_vader_sentiment_lag4', \n",
    "     'avg_vader_sentiment_lag2_squared', 'avg_vader_sentiment_lag3_squared', 'avg_vader_sentiment_lag4_squared',\n",
    "     'avg_vader_sentiment_lag2_cubed', 'avg_vader_sentiment_lag3_cubed', 'avg_vader_sentiment_lag4_cubed'],\n",
    " \n",
    "    ['return_lag2', 'avg_vader_sentiment_lag2', 'return_lag2_avg_vader_interaction'],\n",
    "\n",
    "    ['return_lag2', 'avg_vader_sentiment_lag2', 'return_lag2_avg_vader_interaction',\n",
    "     'return_lag3', 'avg_vader_sentiment_lag3', 'return_lag3_avg_vader_interaction'],\n",
    "\n",
    "    ['return_lag2', 'avg_vader_sentiment_lag2', 'return_lag2_avg_vader_interaction',\n",
    "     'return_lag3', 'avg_vader_sentiment_lag3', 'return_lag3_avg_vader_interaction',\n",
    "     'return_lag4', 'avg_vader_sentiment_lag4', 'return_lag4_avg_vader_interaction'],\n",
    "]"
   ]
  },
  {
   "cell_type": "code",
   "execution_count": 10,
   "metadata": {},
   "outputs": [],
   "source": [
    "# Split data into training and test set\n",
    "train_size = int(len(data) * 0.8)\n",
    "y = data['return']\n",
    "y_train, y_test = y[:train_size], y[train_size:]\n",
    "\n",
    "X_textblob = data[[col for combo in textblob_combinations for col in combo if col in data.columns]]\n",
    "X_textblob = X_textblob.loc[:, ~X_textblob.columns.duplicated()]\n",
    "\n",
    "X_vader = data[[col for combo in vader_combinations for col in combo if col in data.columns]]\n",
    "X_vader = X_vader.loc[:, ~X_vader.columns.duplicated()]\n",
    "\n",
    "scaler = StandardScaler()\n",
    "X_textblob = pd.DataFrame(\n",
    "    scaler.fit_transform(X_textblob),\n",
    "    columns=X_textblob.columns,\n",
    "    index=X_textblob.index\n",
    ")\n",
    "X_textblob = X_textblob.loc[:, ~X_textblob.columns.duplicated()]\n",
    "\n",
    "X_vader = pd.DataFrame(\n",
    "    scaler.fit_transform(X_vader),\n",
    "    columns=X_vader.columns,\n",
    "    index=X_vader.index\n",
    ")\n",
    "X_vader = X_vader.loc[:, ~X_vader.columns.duplicated()]"
   ]
  },
  {
   "cell_type": "markdown",
   "metadata": {},
   "source": [
    "Cross-Validation to select the features and sentiment models"
   ]
  },
  {
   "cell_type": "code",
   "execution_count": 13,
   "metadata": {},
   "outputs": [],
   "source": [
    "def evaluate_combinations(combinations, X, y):\n",
    "    tscv = TimeSeriesSplit(n_splits=5)\n",
    "    # Data initialization\n",
    "    best_combo = None\n",
    "    best_score = np.inf  # Start with a very high MAE for minimization\n",
    "\n",
    "    linear_model = LinearRegression()\n",
    "\n",
    "    for combo in combinations:\n",
    "        if all(col in X.columns for col in combo):  \n",
    "            scores = cross_val_score(linear_model, X[combo], y, cv=tscv, scoring='neg_mean_absolute_error')\n",
    "            mean_mae = -np.mean(scores)  # Convert negative MAE to positive for interpretation\n",
    "\n",
    "            print(f\"Features: {combo}\")\n",
    "            print(f\"Cross-Validated MAE: {mean_mae}\\n\")\n",
    "\n",
    "            if mean_mae < best_score:  # Minimize MAE\n",
    "                best_score = mean_mae\n",
    "                best_combo = combo\n",
    "\n",
    "    return best_combo, best_score\n"
   ]
  },
  {
   "cell_type": "code",
   "execution_count": 16,
   "metadata": {},
   "outputs": [
    {
     "name": "stdout",
     "output_type": "stream",
     "text": [
      "Features: ['return_lag2', 'avg_textblob_polarity_lag2']\n",
      "Cross-Validated MAE: 0.09308375977338701\n",
      "\n",
      "Features: ['return_lag2', 'return_lag3', 'avg_textblob_polarity_lag2', 'avg_textblob_polarity_lag3']\n",
      "Cross-Validated MAE: 0.0926398365512372\n",
      "\n",
      "Features: ['return_lag2', 'return_lag3', 'return_lag4', 'avg_textblob_polarity_lag2', 'avg_textblob_polarity_lag3', 'avg_textblob_polarity_lag4']\n",
      "Cross-Validated MAE: 0.09329574266800236\n",
      "\n",
      "Features: ['return_lag2', 'avg_textblob_polarity_lag2', 'avg_textblob_polarity_lag2_squared']\n",
      "Cross-Validated MAE: 0.0932439645575945\n",
      "\n",
      "Features: ['return_lag2', 'return_lag3', 'avg_textblob_polarity_lag2', 'avg_textblob_polarity_lag3', 'avg_textblob_polarity_lag2_squared', 'avg_textblob_polarity_lag3_squared']\n",
      "Cross-Validated MAE: 0.09301261209891672\n",
      "\n",
      "Features: ['return_lag2', 'return_lag3', 'return_lag4', 'avg_textblob_polarity_lag2', 'avg_textblob_polarity_lag3', 'avg_textblob_polarity_lag4', 'avg_textblob_polarity_lag2_squared', 'avg_textblob_polarity_lag3_squared', 'avg_textblob_polarity_lag4_squared']\n",
      "Cross-Validated MAE: 0.09371733603346735\n",
      "\n",
      "Features: ['return_lag2', 'avg_textblob_polarity_lag2', 'avg_textblob_polarity_lag2_squared', 'avg_textblob_polarity_lag2_cubed']\n",
      "Cross-Validated MAE: 0.09338641852445104\n",
      "\n",
      "Features: ['return_lag2', 'return_lag3', 'avg_textblob_polarity_lag2', 'avg_textblob_polarity_lag3', 'avg_textblob_polarity_lag2_squared', 'avg_textblob_polarity_lag3_squared', 'avg_textblob_polarity_lag2_cubed', 'avg_textblob_polarity_lag3_cubed']\n",
      "Cross-Validated MAE: 0.09324693693041637\n",
      "\n",
      "Features: ['return_lag2', 'return_lag3', 'return_lag4', 'avg_textblob_polarity_lag2', 'avg_textblob_polarity_lag3', 'avg_textblob_polarity_lag4', 'avg_textblob_polarity_lag2_squared', 'avg_textblob_polarity_lag3_squared', 'avg_textblob_polarity_lag4_squared', 'avg_textblob_polarity_lag2_cubed', 'avg_textblob_polarity_lag3_cubed', 'avg_textblob_polarity_lag4_cubed']\n",
      "Cross-Validated MAE: 0.09451215880921059\n",
      "\n",
      "Features: ['return_lag2', 'avg_textblob_polarity_lag2', 'return_lag2_avg_textblob_interaction']\n",
      "Cross-Validated MAE: 0.09236567646043822\n",
      "\n",
      "Features: ['return_lag2', 'avg_textblob_polarity_lag2', 'return_lag2_avg_textblob_interaction', 'return_lag3', 'avg_textblob_polarity_lag3', 'return_lag3_avg_textblob_interaction']\n",
      "Cross-Validated MAE: 0.09193410767602073\n",
      "\n",
      "Features: ['return_lag2', 'avg_textblob_polarity_lag2', 'return_lag2_avg_textblob_interaction', 'return_lag3', 'avg_textblob_polarity_lag3', 'return_lag3_avg_textblob_interaction', 'return_lag4', 'avg_textblob_polarity_lag4', 'return_lag4_avg_textblob_interaction']\n",
      "Cross-Validated MAE: 0.09238440462082001\n",
      "\n",
      "Features: ['return_lag2', 'return_lag3', 'avg_textblob_polarity_lag2', 'avg_textblob_polarity_lag2_squared', 'return_lag2_avg_textblob_interaction']\n",
      "Cross-Validated MAE: 0.09110318618923563\n",
      "\n",
      "Best TextBlob Combination: ['return_lag2', 'return_lag3', 'avg_textblob_polarity_lag2', 'avg_textblob_polarity_lag2_squared', 'return_lag2_avg_textblob_interaction']\n",
      "Best Cross-Validated MAE (TextBlob): 0.09110318618923563\n"
     ]
    }
   ],
   "source": [
    "# Evaluate TextBlob combinations\n",
    "X_train_textblob, X_test_textblob = X_textblob[:train_size], X_textblob[train_size:]\n",
    "best_textblob_combo, best_textblob_score = evaluate_combinations(textblob_combinations, X_train_textblob, y_train)\n",
    "print(\"Best TextBlob Combination:\", best_textblob_combo)\n",
    "print(\"Best Cross-Validated MAE (TextBlob):\", best_textblob_score)"
   ]
  },
  {
   "cell_type": "code",
   "execution_count": 17,
   "metadata": {},
   "outputs": [
    {
     "name": "stdout",
     "output_type": "stream",
     "text": [
      "Features: ['return_lag2', 'avg_vader_sentiment_lag2']\n",
      "Cross-Validated MAE: 0.0930594867014219\n",
      "\n",
      "Features: ['return_lag2', 'return_lag3', 'avg_vader_sentiment_lag2', 'avg_vader_sentiment_lag3']\n",
      "Cross-Validated MAE: 0.09258138594106553\n",
      "\n",
      "Features: ['return_lag2', 'return_lag3', 'return_lag4', 'avg_vader_sentiment_lag2', 'avg_vader_sentiment_lag3', 'avg_vader_sentiment_lag4']\n",
      "Cross-Validated MAE: 0.09324212363095707\n",
      "\n",
      "Features: ['return_lag2', 'avg_vader_sentiment_lag2', 'avg_vader_sentiment_lag2_squared']\n",
      "Cross-Validated MAE: 0.09302791633024553\n",
      "\n",
      "Features: ['return_lag2', 'return_lag3', 'avg_vader_sentiment_lag2', 'avg_vader_sentiment_lag3', 'avg_vader_sentiment_lag2_squared', 'avg_vader_sentiment_lag3_squared']\n",
      "Cross-Validated MAE: 0.09284154611577934\n",
      "\n",
      "Features: ['return_lag2', 'return_lag3', 'return_lag4', 'avg_vader_sentiment_lag2', 'avg_vader_sentiment_lag3', 'avg_vader_sentiment_lag4', 'avg_vader_sentiment_lag2_squared', 'avg_vader_sentiment_lag3_squared', 'avg_vader_sentiment_lag4_squared']\n",
      "Cross-Validated MAE: 0.09330734535859102\n",
      "\n",
      "Features: ['return_lag2', 'avg_vader_sentiment_lag2', 'avg_vader_sentiment_lag2_squared', 'avg_vader_sentiment_lag2_cubed']\n",
      "Cross-Validated MAE: 0.09317688022327197\n",
      "\n",
      "Features: ['return_lag2', 'return_lag3', 'avg_vader_sentiment_lag2', 'avg_vader_sentiment_lag3', 'avg_vader_sentiment_lag2_squared', 'avg_vader_sentiment_lag3_squared', 'avg_vader_sentiment_lag2_cubed', 'avg_vader_sentiment_lag3_cubed']\n",
      "Cross-Validated MAE: 0.09289373335271033\n",
      "\n",
      "Features: ['return_lag2', 'return_lag3', 'return_lag4', 'avg_vader_sentiment_lag2', 'avg_vader_sentiment_lag3', 'avg_vader_sentiment_lag4', 'avg_vader_sentiment_lag2_squared', 'avg_vader_sentiment_lag3_squared', 'avg_vader_sentiment_lag4_squared', 'avg_vader_sentiment_lag2_cubed', 'avg_vader_sentiment_lag3_cubed', 'avg_vader_sentiment_lag4_cubed']\n",
      "Cross-Validated MAE: 0.09339959346496154\n",
      "\n",
      "Features: ['return_lag2', 'avg_vader_sentiment_lag2', 'return_lag2_avg_vader_interaction']\n",
      "Cross-Validated MAE: 0.09243931312032956\n",
      "\n",
      "Features: ['return_lag2', 'avg_vader_sentiment_lag2', 'return_lag2_avg_vader_interaction', 'return_lag3', 'avg_vader_sentiment_lag3', 'return_lag3_avg_vader_interaction']\n",
      "Cross-Validated MAE: 0.09162283289459616\n",
      "\n",
      "Features: ['return_lag2', 'avg_vader_sentiment_lag2', 'return_lag2_avg_vader_interaction', 'return_lag3', 'avg_vader_sentiment_lag3', 'return_lag3_avg_vader_interaction', 'return_lag4', 'avg_vader_sentiment_lag4', 'return_lag4_avg_vader_interaction']\n",
      "Cross-Validated MAE: 0.09171118124800576\n",
      "\n",
      "Best VADER Combination: ['return_lag2', 'avg_vader_sentiment_lag2', 'return_lag2_avg_vader_interaction', 'return_lag3', 'avg_vader_sentiment_lag3', 'return_lag3_avg_vader_interaction']\n",
      "Best Cross-Validated MAE (VADER): 0.09162283289459616\n"
     ]
    }
   ],
   "source": [
    "# Evaluate VADER combinations\n",
    "X_train_vader, X_test_vader = X_vader[:train_size], X_vader[train_size:]\n",
    "best_vader_combo, best_vader_score = evaluate_combinations(vader_combinations, X_train_vader, y_train)\n",
    "print(\"Best VADER Combination:\", best_vader_combo)\n",
    "print(\"Best Cross-Validated MAE (VADER):\", best_vader_score)"
   ]
  },
  {
   "cell_type": "code",
   "execution_count": 18,
   "metadata": {},
   "outputs": [
    {
     "name": "stdout",
     "output_type": "stream",
     "text": [
      "Vader is the better language model.\n"
     ]
    }
   ],
   "source": [
    "if best_textblob_score > best_vader_score:\n",
    "    print(\"TextBlob is the better language model.\")\n",
    "    final_combo = best_textblob_combo\n",
    "    X_train_final, X_test_final = X_train_textblob, X_test_textblob\n",
    "else:\n",
    "    print(\"Vader is the better language model.\")\n",
    "    final_combo = best_vader_combo\n",
    "    X_train_final, X_test_final = X_train_vader, X_test_vader"
   ]
  },
  {
   "cell_type": "code",
   "execution_count": 19,
   "metadata": {},
   "outputs": [],
   "source": [
    "final_model = LinearRegression()\n",
    "final_model.fit(X_train_final[final_combo], y_train)\n",
    "y_pred_test = final_model.predict(X_test_final[final_combo])"
   ]
  },
  {
   "cell_type": "code",
   "execution_count": 31,
   "metadata": {},
   "outputs": [
    {
     "name": "stdout",
     "output_type": "stream",
     "text": [
      "Intercept: -0.0210575688860465\n",
      "Coefficients: {'return_lag2': np.float64(1.9950180775090676), 'avg_vader_sentiment_lag2': np.float64(0.02320145259943196), 'return_lag2_avg_vader_interaction': np.float64(-2.0219978077007505), 'return_lag3': np.float64(-0.8916610260275057), 'avg_vader_sentiment_lag3': np.float64(-0.010375192402581558), 'return_lag3_avg_vader_interaction': np.float64(0.2223934116153116)}\n"
     ]
    }
   ],
   "source": [
    "print(\"Intercept:\", final_model.intercept_)\n",
    "print(\"Coefficients:\", dict(zip(final_combo, final_model.coef_)))"
   ]
  },
  {
   "cell_type": "code",
   "execution_count": 29,
   "metadata": {},
   "outputs": [
    {
     "name": "stdout",
     "output_type": "stream",
     "text": [
      "Regression Evaluation (Test Set) Metrics:\n",
      "  - Mean Absolute Error (MAE): 0.36157444393548077\n",
      "  - Mean Squared Error (MSE): 2.358779823926632\n",
      "  - Directional Accuracy: 50.57%\n"
     ]
    }
   ],
   "source": [
    "# Evaludations\n",
    "directional_accuracy = np.mean((y_test * y_pred_test) > 0) * 100\n",
    "\n",
    "def evaluate_model(y_true, y_pred, model_name):\n",
    "    mae = mean_absolute_error(y_true, y_pred)\n",
    "    mse = mean_squared_error(y_true, y_pred)\n",
    "    print(f\"{model_name} Metrics:\")\n",
    "    print(f\"  - Mean Absolute Error (MAE): {mae}\")\n",
    "    print(f\"  - Mean Squared Error (MSE): {mse}\")\n",
    "    print(f\"  - Directional Accuracy: {directional_accuracy:.2f}%\")\n",
    "\n",
    "evaluate_model(y_test, y_pred_test, \"Regression Evaluation (Test Set)\")"
   ]
  },
  {
   "cell_type": "code",
   "execution_count": 27,
   "metadata": {},
   "outputs": [
    {
     "data": {
      "image/png": "[encoded data removed]",
      "text/plain": [
       "<Figure size 1200x600 with 1 Axes>"
      ]
     },
     "metadata": {},
     "output_type": "display_data"
    }
   ],
   "source": [
    "# Visualisations\n",
    "indices = range(len(y_test))\n",
    "plt.figure(figsize=(12, 6))\n",
    "plt.plot(indices, y_test, label=\"Actual\", color=\"blue\", linewidth=2)\n",
    "plt.plot(indices, y_pred_test, label=\"Predicted\", color=\"red\", linestyle=\"--\", linewidth=2)\n",
    "plt.title(\"Actual vs Predicted Stock Returns using VADER (Test Set)\", fontsize=16)\n",
    "plt.xlabel(\"Timeline\", fontsize=12)\n",
    "plt.ylabel(\"Normalized Returns\", fontsize=12)\n",
    "plt.legend(fontsize=12)\n",
    "plt.grid()\n",
    "plt.show()"
   ]
  }
 ],
 "metadata": {
  "kernelspec": {
   "display_name": "base",
   "language": "python",
   "name": "python3"
  },
  "language_info": {
   "codemirror_mode": {
    "name": "ipython",
    "version": 3
   },
   "file_extension": ".py",
   "mimetype": "text/x-python",
   "name": "python",
   "nbconvert_exporter": "python",
   "pygments_lexer": "ipython3",
   "version": "3.10.15"
  }
 },
 "nbformat": 4,
 "nbformat_minor": 2
}
